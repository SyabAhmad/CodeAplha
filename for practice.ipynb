import cv2
import matplotlib.pyplot as plt

faces = cv2.CascadeClassifier("data/haarcascade_frontalface_default.xml")
eyes = cv2.CascadeClassifier("data/haarcascade_righteye_2splits.xml")

def detectFaceAndEye(img_path):
    img = cv2.imread(img_path)
    gray = cv2.cvtColor(img, cv2.COLOR_BGR2GRAY)

    faces_detected = faces.detectMultiScale(gray, 1.10, 2)
    eyes_detected = eyes.detectMultiScale(gray, 1.12, 2)

    for (x, y, w, h) in faces_detected:
        cv2.rectangle(img, (x, y), (x + w, y + h), (255, 0, 0), 2)

    for (ex, ey, ew, eh) in eyes_detected:
        center_x = ex + ew // 2
        center_y = ey + eh // 2
        radius = max(ew, eh) // 2
        cv2.circle(img, (center_x, center_y), radius, (0, 0, 240), 1)

    plt.imshow(cv2.cvtColor(img, cv2.COLOR_BGR2RGB))
    plt.axis("off")
    plt.title("Face and Eye Recognition")
    plt.show()


imgPath = "face 9.jpeg"
detectFaceAndEye(imgPath)
